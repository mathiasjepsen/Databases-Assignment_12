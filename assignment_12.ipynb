{
 "cells": [
  {
   "cell_type": "markdown",
   "metadata": {},
   "source": [
    "# Databases assignment 12"
   ]
  },
  {
   "cell_type": "code",
   "execution_count": 150,
   "metadata": {},
   "outputs": [
    {
     "name": "stdout",
     "output_type": "stream",
     "text": [
      "4849a02d17c29a9cb42364ed1b1456f4144504b2dbf36bbc69a9c9cad609037d\n"
     ]
    }
   ],
   "source": [
    "%%bash\n",
    "docker run \\\n",
    "    -d --name neo4j \\\n",
    "    --rm \\\n",
    "    --publish=7474:7474 \\\n",
    "    --publish=7687:7687 \\\n",
    "    --env NEO4J_AUTH=neo4j/fancy!99Doorknob \\\n",
    "    --cpus=2 \\\n",
    "    --memory=8192m \\\n",
    "    -v \"$(pwd):/var/lib/neo4j/import\" \\\n",
    "    neo4j"
   ]
  },
  {
   "cell_type": "code",
   "execution_count": 162,
   "metadata": {},
   "outputs": [
    {
     "data": {
      "text/plain": [
       "'done'"
      ]
     },
     "execution_count": 162,
     "metadata": {},
     "output_type": "execute_result"
    }
   ],
   "source": [
    "import sys\n",
    "from neo4j import GraphDatabase\n",
    "\n",
    "\n",
    "uri = \"bolt://localhost:7687\"\n",
    "auth=(\"neo4j\", \"fancy!99Doorknob\")\n",
    "driver = GraphDatabase.driver(uri, auth=auth)\n",
    "\n",
    "\n",
    "def neo(command):\n",
    "    try:\n",
    "        with driver.session() as session:\n",
    "            result = session.run(command)\n",
    "        return result # result is a resultset/cursor for neo4j\n",
    "    except Exception as ex:\n",
    "        print(str(ex), file=sys.stderr)\n",
    "        \n",
    "        \n",
    "def neov(command):\n",
    "    try:\n",
    "        return neo(command).values()\n",
    "    except Exception as ex:\n",
    "        return 'Shit happened'\n",
    "\"done\""
   ]
  },
  {
   "cell_type": "markdown",
   "metadata": {},
   "source": [
    "## Exercise 1"
   ]
  },
  {
   "cell_type": "code",
   "execution_count": 175,
   "metadata": {},
   "outputs": [
    {
     "data": {
      "text/plain": [
       "[]"
      ]
     },
     "execution_count": 175,
     "metadata": {},
     "output_type": "execute_result"
    }
   ],
   "source": [
    "neov(\"\"\"\n",
    "LOAD CSV WITH HEADERS FROM \"file:///some2016UKgeotweets.csv\" AS row FIELDTERMINATOR \";\"\n",
    "CREATE (t:Tweet { username: row.`User Name`, \n",
    "                 nickname: row.Nickname, \n",
    "                 tweetContent: row.`Tweet Content`, \n",
    "                 latitude: toFloat(row.Latitude), \n",
    "                 longitude: toFloat(row.Longitude), \n",
    "                 place: row.`Place (as appears on Bio)`})\n",
    "\"\"\")"
   ]
  },
  {
   "cell_type": "code",
   "execution_count": 177,
   "metadata": {},
   "outputs": [
    {
     "data": {
      "text/plain": [
       "[]"
      ]
     },
     "execution_count": 177,
     "metadata": {},
     "output_type": "execute_result"
    }
   ],
   "source": [
    "neov(\"\"\"\n",
    "MATCH (a:Tweet)\n",
    "WITH EXTRACT(m IN FILTER(m IN SPLIT(a.tweetContent,\" \") \n",
    "                  WHERE m STARTS WITH \"@\" AND SIZE(m) > 1) | RIGHT(m, size(m) - 1))\n",
    "                  AS mentions, a\n",
    "SET a.mentions = mentions\n",
    "\"\"\")"
   ]
  },
  {
   "cell_type": "markdown",
   "metadata": {},
   "source": [
    "## Exercise 2"
   ]
  },
  {
   "cell_type": "code",
   "execution_count": 178,
   "metadata": {},
   "outputs": [
    {
     "data": {
      "text/plain": [
       "[]"
      ]
     },
     "execution_count": 178,
     "metadata": {},
     "output_type": "execute_result"
    }
   ],
   "source": [
    "neov(\"\"\"\n",
    "MATCH (tweet:Tweet) \n",
    "WITH DISTINCT(tweet.username) AS username\n",
    "CREATE (tweeter:Tweeter { username: username })\n",
    "\"\"\")"
   ]
  },
  {
   "cell_type": "code",
   "execution_count": 179,
   "metadata": {},
   "outputs": [
    {
     "data": {
      "text/plain": [
       "[]"
      ]
     },
     "execution_count": 179,
     "metadata": {},
     "output_type": "execute_result"
    }
   ],
   "source": [
    "neov(\"\"\"\n",
    "MATCH (tweet:Tweet)\n",
    "UNWIND tweet.mentions AS mentions\n",
    "MATCH (tweeter:Tweeter { username: mentions })\n",
    "CREATE (tweet)-[:MENTIONS]->(tweeter)\n",
    "\"\"\")"
   ]
  },
  {
   "cell_type": "code",
   "execution_count": 180,
   "metadata": {},
   "outputs": [
    {
     "data": {
      "text/plain": [
       "[]"
      ]
     },
     "execution_count": 180,
     "metadata": {},
     "output_type": "execute_result"
    }
   ],
   "source": [
    "neov(\"\"\"\n",
    "MATCH (tweet:Tweet), (tweeter:Tweeter)\n",
    "WHERE tweet.username = tweeter.username\n",
    "CREATE (tweeter)-[:TWEETED]->(tweet)\n",
    "\"\"\")"
   ]
  },
  {
   "cell_type": "markdown",
   "metadata": {},
   "source": [
    "## Exercise 3"
   ]
  },
  {
   "cell_type": "markdown",
   "metadata": {},
   "source": [
    "Couldn't get anything to work here 😵"
   ]
  }
 ],
 "metadata": {
  "kernelspec": {
   "display_name": "Python 3",
   "language": "python",
   "name": "python3"
  },
  "language_info": {
   "codemirror_mode": {
    "name": "ipython",
    "version": 3
   },
   "file_extension": ".py",
   "mimetype": "text/x-python",
   "name": "python",
   "nbconvert_exporter": "python",
   "pygments_lexer": "ipython3",
   "version": "3.7.1"
  }
 },
 "nbformat": 4,
 "nbformat_minor": 2
}
